{
 "cells": [
  {
   "cell_type": "code",
   "execution_count": 16,
   "metadata": {},
   "outputs": [
    {
     "name": "stdout",
     "output_type": "stream",
     "text": [
      "[[1 2 3 5]\n",
      " [2 3 4 5]\n",
      " [1 1 1 6]\n",
      " [1 2 3 5]]\n",
      "/n [1 2 3 1]\n"
     ]
    },
    {
     "data": {
      "text/plain": [
       "array([2, 4, 6, 2])"
      ]
     },
     "execution_count": 16,
     "metadata": {},
     "output_type": "execute_result"
    }
   ],
   "source": [
    "import numpy as np\n",
    "X=np.array([[1,2,3,5],[2,3,4,5],[1,1,1,6],[1,2,3,5]])\n",
    "print(X)\n",
    "y=np.array([1,2,3,1])\n",
    "print('/n',y)\n",
    "X[np.arange(4),y]"
   ]
  },
  {
   "cell_type": "code",
   "execution_count": 93,
   "metadata": {},
   "outputs": [
    {
     "name": "stdout",
     "output_type": "stream",
     "text": [
      "[[1 2 3]\n",
      " [4 5 6]\n",
      " [7 8 9]]\n",
      "[[7 4 1]\n",
      " [8 5 2]\n",
      " [9 6 3]]\n"
     ]
    }
   ],
   "source": [
    "import numpy as np\n",
    "matrix=np.array([[1,2,3],\n",
    "        [4,5,6],\n",
    "        [7,8,9]])\n",
    "\n",
    "print(matrix)\n",
    "length = len(matrix)-1;\n",
    "length1=length/2\n",
    "   \n",
    "for i in np.arange(0,int(length1),1): \n",
    "    for j in np.arange(i,length-i,1):\n",
    "        \n",
    "        p1 = matrix[i][j];\n",
    "        p2 = matrix[j][length-i];\n",
    "        p3 = matrix[length-i][length-j];\n",
    "        p4 = matrix[length-j][i];\n",
    "\n",
    "        matrix[j][length-i] = p1;\n",
    "        matrix[length-i][length-j] = p2;\n",
    "        matrix[length-j][i] = p3;\n",
    "        matrix[i][j] = p4;\n",
    "\n",
    "print(matrix)"
   ]
  },
  {
   "cell_type": "code",
   "execution_count": null,
   "metadata": {},
   "outputs": [],
   "source": []
  }
 ],
 "metadata": {
  "kernelspec": {
   "display_name": "Python 3",
   "language": "python",
   "name": "python3"
  },
  "language_info": {
   "codemirror_mode": {
    "name": "ipython",
    "version": 3
   },
   "file_extension": ".py",
   "mimetype": "text/x-python",
   "name": "python",
   "nbconvert_exporter": "python",
   "pygments_lexer": "ipython3",
   "version": "3.7.1"
  }
 },
 "nbformat": 4,
 "nbformat_minor": 2
}
